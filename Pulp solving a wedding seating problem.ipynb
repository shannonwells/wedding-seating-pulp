{
 "cells": [
  {
   "cell_type": "markdown",
   "id": "7ecdec42",
   "metadata": {},
   "source": [
    "# Use pulp to solve a wedding seating problem"
   ]
  },
  {
   "cell_type": "code",
   "execution_count": 1,
   "id": "fa8d7bf0",
   "metadata": {},
   "outputs": [],
   "source": [
    "import pulp"
   ]
  },
  {
   "cell_type": "code",
   "execution_count": 2,
   "id": "b3eabd30",
   "metadata": {},
   "outputs": [],
   "source": [
    "max_tables = 5\n",
    "max_table_size = 4\n",
    "guests = 'A B C D E F G I J K L M N O P Q R'.split()"
   ]
  },
  {
   "cell_type": "markdown",
   "id": "b9e5d593",
   "metadata": {},
   "source": [
    "**happiness function**\n",
    "The happiness of the table is defined as the maximum distance between (sorted?) letters. "
   ]
  },
  {
   "cell_type": "code",
   "execution_count": 3,
   "id": "749571b4",
   "metadata": {},
   "outputs": [],
   "source": [
    "def happiness(table):\n",
    "    return abs(ord(table[0]) - ord(table[-1]))"
   ]
  },
  {
   "cell_type": "markdown",
   "id": "5aac0091",
   "metadata": {},
   "source": [
    "**generate possible seating arrangements**"
   ]
  },
  {
   "cell_type": "code",
   "execution_count": 4,
   "id": "4e18c125",
   "metadata": {},
   "outputs": [
    {
     "name": "stdout",
     "output_type": "stream",
     "text": [
      "('A', 'K', 'L')\n"
     ]
    }
   ],
   "source": [
    "combos = pulp.allcombinations(guests, max_table_size)\n",
    "possible_tables = [tuple(c) for c in combos]\n",
    "print(possible_tables[245])"
   ]
  },
  {
   "cell_type": "markdown",
   "id": "b8a44ae1",
   "metadata": {},
   "source": [
    "**create a binary variable dictionary to state that a table setting is used**\n",
    "\n",
    "[LpVariable.dicts](https://coin-or.github.io/pulp/technical/pulp.html?highlight=dicts#pulp.LpVariable.dicts), a class method, creates a dictionary of LpVariable with the specified associated parameters\n",
    "\n",
    "Each possible table setting will eventually have a not-used/used value of 0 or 1.  This method simply creates a dict with:\n",
    "* keys = the values of the possible table seatings, \n",
    "* values = LpVariables with a variable name of table_&lt;key&gt;, and which can be either 0 or 1.\n"
   ]
  },
  {
   "cell_type": "code",
   "execution_count": 5,
   "id": "f6820383",
   "metadata": {},
   "outputs": [
    {
     "name": "stdout",
     "output_type": "stream",
     "text": [
      "('A', 'K', 'L')\n",
      "table_('A',_'K',_'L')\n"
     ]
    }
   ],
   "source": [
    "x = pulp.LpVariable.dicts('table', possible_tables, \n",
    "                            lowBound = 0,\n",
    "                            upBound = 1,\n",
    "                            cat = pulp.LpInteger)\n",
    "\n",
    "nthKey=list(x)[245]\n",
    "print(nthKey)\n",
    "print(x[nthKey])"
   ]
  },
  {
   "cell_type": "code",
   "execution_count": 6,
   "id": "d178f4e4",
   "metadata": {},
   "outputs": [],
   "source": [
    "seating_model = pulp.LpProblem(\"WeddingSeatingModel\", pulp.LpMinimize)"
   ]
  },
  {
   "cell_type": "markdown",
   "id": "a55aea65",
   "metadata": {},
   "source": [
    "**Set the objective**\n",
    "\n",
    "Augmenting the model with a value makes this the objective.\n",
    "Only one objective may be added to a model.\n",
    "Since we said this was an LpMinimize type, the objective is to minimize this value. (?)\n",
    "\n",
    "`pulp.lpSum(vector)` Calculates the sum of a list of linear expressions.\n",
    "\n",
    "Parameters:  `vector` – A list of linear expressions"
   ]
  },
  {
   "cell_type": "code",
   "execution_count": 7,
   "id": "afe8b954",
   "metadata": {},
   "outputs": [],
   "source": [
    "# print([happiness(table) * x[table] for table in possible_tables])\n",
    "seating_model += pulp.lpSum([happiness(table) * x[table] for table in possible_tables])"
   ]
  },
  {
   "cell_type": "markdown",
   "id": "cfb15d8e",
   "metadata": {},
   "source": [
    "Augmenting the model with an expression adds a constraint. The solution may not violate constraints.\n",
    "We specify the sensible constraint that the solution has to be <= some limit."
   ]
  },
  {
   "cell_type": "code",
   "execution_count": 8,
   "id": "0ae66968",
   "metadata": {},
   "outputs": [],
   "source": [
    "seating_model += pulp.lpSum([x[table] for table in possible_tables]) <= max_tables,\"Maximum_number_of_tables\""
   ]
  },
  {
   "cell_type": "markdown",
   "id": "98b1295f",
   "metadata": {},
   "source": [
    "Now we need to ensure that guests are not duplicated. They can sit at one table only. Add a constraint for each guest."
   ]
  },
  {
   "cell_type": "code",
   "execution_count": 9,
   "id": "c30171ef",
   "metadata": {},
   "outputs": [],
   "source": [
    "for guest in guests:\n",
    "    seating_model += pulp.lpSum([x[table] for table in possible_tables\n",
    "                                if guest in table]) == 1, \"Must_seat_%s\"%guest"
   ]
  },
  {
   "cell_type": "markdown",
   "id": "ee86caf6",
   "metadata": {},
   "source": [
    "Tell the model to solve"
   ]
  },
  {
   "cell_type": "code",
   "execution_count": 10,
   "id": "ac4c6a17",
   "metadata": {},
   "outputs": [
    {
     "data": {
      "text/plain": [
       "1"
      ]
     },
     "execution_count": 10,
     "metadata": {},
     "output_type": "execute_result"
    }
   ],
   "source": [
    "seating_model.solve()"
   ]
  },
  {
   "cell_type": "code",
   "execution_count": 11,
   "id": "d494cef7",
   "metadata": {},
   "outputs": [
    {
     "name": "stdout",
     "output_type": "stream",
     "text": [
      "The chosen tables are out of a total of 3213:\n",
      "('M', 'N')\n",
      "('E', 'F', 'G')\n",
      "('A', 'B', 'C', 'D')\n",
      "('I', 'J', 'K', 'L')\n",
      "('O', 'P', 'Q', 'R')\n"
     ]
    }
   ],
   "source": [
    "print(\"The chosen tables are out of a total of %s:\"%len(possible_tables))\n",
    "for table in possible_tables:\n",
    "    if x[table].value() > 0:\n",
    "        print(table)"
   ]
  },
  {
   "cell_type": "markdown",
   "id": "95b21798",
   "metadata": {},
   "source": []
  },
  {
   "cell_type": "code",
   "execution_count": null,
   "id": "72d927f8",
   "metadata": {},
   "outputs": [],
   "source": []
  }
 ],
 "metadata": {
  "kernelspec": {
   "display_name": "Python 3",
   "language": "python",
   "name": "python3"
  },
  "language_info": {
   "codemirror_mode": {
    "name": "ipython",
    "version": 3
   },
   "file_extension": ".py",
   "mimetype": "text/x-python",
   "name": "python",
   "nbconvert_exporter": "python",
   "pygments_lexer": "ipython3",
   "version": "3.9.1"
  }
 },
 "nbformat": 4,
 "nbformat_minor": 5
}
